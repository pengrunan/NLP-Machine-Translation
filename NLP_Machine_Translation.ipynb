{
 "cells": [
  {
   "cell_type": "markdown",
   "metadata": {},
   "source": [
    "## 1. Data pre-process"
   ]
  },
  {
   "cell_type": "code",
   "execution_count": 77,
   "metadata": {
    "scrolled": true
   },
   "outputs": [],
   "source": [
    "#Import all the necessary packages\n",
    "import numpy as np\n",
    "import pandas as pd\n",
    "import tensorflow as tf\n",
    "import numpy as np\n",
    "\n",
    "from tensorflow import keras\n",
    "from tensorflow.keras.models import Model\n",
    "from tensorflow.keras.layers import Input, LSTM, Dense, SimpleRNN"
   ]
  },
  {
   "cell_type": "markdown",
   "metadata": {},
   "source": [
    "#### 1). Data Check"
   ]
  },
  {
   "cell_type": "code",
   "execution_count": 64,
   "metadata": {},
   "outputs": [
    {
     "name": "stdout",
     "output_type": "stream",
     "text": [
      "['\\n', ' ', \"'\", '*', '-', '0', '1', '2', '3', '4', '5', '6', '7', '8', '9', '`', 'a', 'b', 'c', 'd', 'e', 'f', 'g', 'h', 'i', 'j', 'k', 'l', 'm', 'n', 'o', 'p', 'q', 'r', 's', 't', 'u', 'v', 'w', 'x', 'y', 'z']\n",
      "There are 126071 total characters and 42 unique characters in the data.\n"
     ]
    }
   ],
   "source": [
    "#Read the data at first glance, check each identical characters in this file.\n",
    "data = open('data.txt', 'r').read()\n",
    "data = data.lower()\n",
    "chars = list(set(data))\n",
    "print(sorted(chars))\n",
    "data_size, vocab_size = len(data), len(chars)\n",
    "print('There are %d total characters and %d unique characters in the data.' % (data_size, vocab_size))"
   ]
  },
  {
   "cell_type": "code",
   "execution_count": 65,
   "metadata": {
    "scrolled": true
   },
   "outputs": [
    {
     "data": {
      "text/html": [
       "<div>\n",
       "<style scoped>\n",
       "    .dataframe tbody tr th:only-of-type {\n",
       "        vertical-align: middle;\n",
       "    }\n",
       "\n",
       "    .dataframe tbody tr th {\n",
       "        vertical-align: top;\n",
       "    }\n",
       "\n",
       "    .dataframe thead th {\n",
       "        text-align: right;\n",
       "    }\n",
       "</style>\n",
       "<table border=\"1\" class=\"dataframe\">\n",
       "  <thead>\n",
       "    <tr style=\"text-align: right;\">\n",
       "      <th></th>\n",
       "      <th>Input</th>\n",
       "      <th>Output</th>\n",
       "    </tr>\n",
       "  </thead>\n",
       "  <tbody>\n",
       "    <tr>\n",
       "      <th>0</th>\n",
       "      <td>apprehensive</td>\n",
       "      <td>apprehensiveway</td>\n",
       "    </tr>\n",
       "    <tr>\n",
       "      <th>1</th>\n",
       "      <td>desperately</td>\n",
       "      <td>esperatelyday</td>\n",
       "    </tr>\n",
       "    <tr>\n",
       "      <th>2</th>\n",
       "      <td>grew</td>\n",
       "      <td>ewgray</td>\n",
       "    </tr>\n",
       "    <tr>\n",
       "      <th>3</th>\n",
       "      <td>niggardly</td>\n",
       "      <td>iggardlynay</td>\n",
       "    </tr>\n",
       "    <tr>\n",
       "      <th>4</th>\n",
       "      <td>brought</td>\n",
       "      <td>oughtbray</td>\n",
       "    </tr>\n",
       "  </tbody>\n",
       "</table>\n",
       "</div>"
      ],
      "text/plain": [
       "          Input           Output\n",
       "0  apprehensive  apprehensiveway\n",
       "1   desperately    esperatelyday\n",
       "2          grew           ewgray\n",
       "3     niggardly      iggardlynay\n",
       "4       brought        oughtbray"
      ]
     },
     "execution_count": 65,
     "metadata": {},
     "output_type": "execute_result"
    }
   ],
   "source": [
    "#Show the details of the data in two groups.\n",
    "df = pd.read_csv('data.txt', sep=\" \", header=None)\n",
    "df.columns = [\"Input\", \"Output\"]\n",
    "df.head()\n",
    "# show(df)"
   ]
  },
  {
   "cell_type": "markdown",
   "metadata": {},
   "source": [
    "#### 2). Set up training details. "
   ]
  },
  {
   "cell_type": "code",
   "execution_count": 66,
   "metadata": {
    "scrolled": false
   },
   "outputs": [],
   "source": [
    "#Set up training parameters\n",
    "batch_size = 64\n",
    "epochs = 100\n",
    "latent_dim = 256\n",
    "num_samples = 6511"
   ]
  },
  {
   "cell_type": "markdown",
   "metadata": {},
   "source": [
    "#### 3). Word seperation and add start/end mark. "
   ]
  },
  {
   "cell_type": "code",
   "execution_count": 67,
   "metadata": {},
   "outputs": [],
   "source": [
    "input_texts = []\n",
    "target_texts = []\n",
    "input_chars = set()\n",
    "target_chars = set()\n",
    "with open('data.txt', 'r', encoding='utf-8') as f:\n",
    "    lines = f.read().split('\\n')\n",
    "#Seperate words into input and target group   \n",
    "for line in lines:\n",
    "    input_text, target_text= line.split(' ')\n",
    "    target_text = '\\t' + target_text + '\\n'\n",
    "    input_texts.append(input_text)\n",
    "    target_texts.append(target_text)\n",
    "    for char in input_text:\n",
    "        if char not in input_chars:\n",
    "            input_chars.add(char)\n",
    "    for char in target_text:\n",
    "        if char not in target_chars:\n",
    "            target_chars.add(char)"
   ]
  },
  {
   "cell_type": "code",
   "execution_count": 68,
   "metadata": {},
   "outputs": [],
   "source": [
    "#Check the data detail\n",
    "input_chars = sorted(list(input_chars))\n",
    "target_chars = sorted(list(target_chars))\n",
    "num_encoder_tokens = len(input_chars)\n",
    "num_decoder_tokens = len(target_chars)\n",
    "max_encoder_seq_length = max([len(i) for i in input_texts])\n",
    "max_decoder_seq_length = max([len(i) for i in target_texts])"
   ]
  },
  {
   "cell_type": "code",
   "execution_count": 69,
   "metadata": {
    "scrolled": true
   },
   "outputs": [
    {
     "name": "stdout",
     "output_type": "stream",
     "text": [
      "Number of samples: 6511\n",
      "Number of unique input tokens: 40\n",
      "Number of unique output tokens: 42\n",
      "Max sequence length for inputs: 18\n",
      "Max sequence length for outputs: 24\n"
     ]
    }
   ],
   "source": [
    "print(\"Number of samples:\", len(input_texts))\n",
    "print(\"Number of unique input tokens:\", num_encoder_tokens)\n",
    "print(\"Number of unique output tokens:\", num_decoder_tokens)\n",
    "print(\"Max sequence length for inputs:\", max_encoder_seq_length)\n",
    "print(\"Max sequence length for outputs:\", max_decoder_seq_length)"
   ]
  },
  {
   "cell_type": "markdown",
   "metadata": {},
   "source": [
    "#### 4). Word embedding and one-hot vector"
   ]
  },
  {
   "cell_type": "code",
   "execution_count": 70,
   "metadata": {},
   "outputs": [],
   "source": [
    "#Tokenize the words and word embedding\n",
    "input_token_index = dict(\n",
    "                    [(char, i) for i, char in enumerate(input_chars)])\n",
    "target_token_index = dict(\n",
    "                    [(char, i) for i, char in enumerate(target_chars)])"
   ]
  },
  {
   "cell_type": "code",
   "execution_count": 71,
   "metadata": {},
   "outputs": [],
   "source": [
    "#Create zero vectors for one-hot vector.\n",
    "encoder_input_data = np.zeros(\n",
    "                    (len(input_texts), max_encoder_seq_length, num_encoder_tokens),dtype='float32')\n",
    "decoder_input_data = np.zeros(\n",
    "                    (len(target_texts), max_decoder_seq_length, num_decoder_tokens),dtype='float32')\n",
    "decoder_target_data = np.zeros(\n",
    "                    (len(input_texts), max_decoder_seq_length, num_decoder_tokens),dtype='float32')"
   ]
  },
  {
   "cell_type": "code",
   "execution_count": 72,
   "metadata": {},
   "outputs": [
    {
     "name": "stdout",
     "output_type": "stream",
     "text": [
      "(6511, 18, 40)\n",
      "(6511, 24, 42)\n",
      "(6511, 24, 42)\n"
     ]
    }
   ],
   "source": [
    "#Check the size of each group data sets.\n",
    "print(encoder_input_data.shape)\n",
    "print(decoder_input_data.shape)\n",
    "print(decoder_target_data.shape)"
   ]
  },
  {
   "cell_type": "code",
   "execution_count": 73,
   "metadata": {
    "scrolled": true
   },
   "outputs": [
    {
     "name": "stdout",
     "output_type": "stream",
     "text": [
      "The input index:\n",
      "{\"'\": 0, '*': 1, '-': 2, '0': 3, '1': 4, '2': 5, '3': 6, '4': 7, '5': 8, '6': 9, '7': 10, '8': 11, '9': 12, '`': 13, 'a': 14, 'b': 15, 'c': 16, 'd': 17, 'e': 18, 'f': 19, 'g': 20, 'h': 21, 'i': 22, 'j': 23, 'k': 24, 'l': 25, 'm': 26, 'n': 27, 'o': 28, 'p': 29, 'q': 30, 'r': 31, 's': 32, 't': 33, 'u': 34, 'v': 35, 'w': 36, 'x': 37, 'y': 38, 'z': 39}\n",
      "\n",
      " The target index:\n",
      "{'\\t': 0, '\\n': 1, \"'\": 2, '*': 3, '-': 4, '0': 5, '1': 6, '2': 7, '3': 8, '4': 9, '5': 10, '6': 11, '7': 12, '8': 13, '9': 14, '`': 15, 'a': 16, 'b': 17, 'c': 18, 'd': 19, 'e': 20, 'f': 21, 'g': 22, 'h': 23, 'i': 24, 'j': 25, 'k': 26, 'l': 27, 'm': 28, 'n': 29, 'o': 30, 'p': 31, 'q': 32, 'r': 33, 's': 34, 't': 35, 'u': 36, 'v': 37, 'w': 38, 'x': 39, 'y': 40, 'z': 41}\n"
     ]
    }
   ],
   "source": [
    "#Make sure the index for each word is correct.\n",
    "print('The input index:')\n",
    "print(input_token_index)\n",
    "print('\\n The target index:')\n",
    "print(target_token_index)"
   ]
  },
  {
   "cell_type": "code",
   "execution_count": 78,
   "metadata": {},
   "outputs": [],
   "source": [
    "#Create one hot vector for all characters\n",
    "for i, (input_text, target_text) in enumerate(zip(input_texts, target_texts)):\n",
    "    for t, char in enumerate(input_text):\n",
    "        encoder_input_data[i, t, input_token_index[char]] = 1.\n",
    "\n",
    "    for t, char in enumerate(target_text):\n",
    "        decoder_input_data[i, t, target_token_index[char]] = 1.\n",
    "        if t > 0:\n",
    "            decoder_target_data[i, t - 1, target_token_index[char]] = 1."
   ]
  },
  {
   "cell_type": "markdown",
   "metadata": {},
   "source": [
    "## 2.Build our model "
   ]
  },
  {
   "cell_type": "markdown",
   "metadata": {},
   "source": [
    "#### 1). Building encoder"
   ]
  },
  {
   "cell_type": "code",
   "execution_count": 79,
   "metadata": {},
   "outputs": [],
   "source": [
    "#For the encoder we use LSTM to process the data in our RNN model. \n",
    "#Here we take the input from our data and output the states, hidden state and conveyor state, \n",
    "#and pass it to the decoder\n",
    "\n",
    "encoder_inputs = Input(shape=(None, num_encoder_tokens))\n",
    "encoder = LSTM(latent_dim, return_state=True)\n",
    "encoder_outputs, state_h, state_c = encoder(encoder_inputs)"
   ]
  },
  {
   "cell_type": "code",
   "execution_count": 80,
   "metadata": {},
   "outputs": [],
   "source": [
    "#Save the state and pass it to the decoder\n",
    "encoder_states = [state_h, state_c]"
   ]
  },
  {
   "cell_type": "code",
   "execution_count": 81,
   "metadata": {},
   "outputs": [],
   "source": [
    "#Input the states from the encoder and output the target word combination.\n",
    "decoder_inputs = Input(shape=(None, num_decoder_tokens))\n",
    "decoder_rnn = LSTM(latent_dim, return_sequences=True, return_state=True)\n",
    "#Use the states from encoder as initial_state\n",
    "decoder_outputs, _, _ = decoder_rnn(decoder_inputs, initial_state=encoder_states)\n",
    "#Fully connected layer for identification through softmax function\n",
    "decoder_dense = Dense(num_decoder_tokens, activation='softmax')\n",
    "decoder_outputs = decoder_dense(decoder_outputs)"
   ]
  },
  {
   "cell_type": "markdown",
   "metadata": {},
   "source": [
    "## Model training "
   ]
  },
  {
   "cell_type": "code",
   "execution_count": 82,
   "metadata": {},
   "outputs": [],
   "source": [
    "#Combine models in Model function\n",
    "model = Model([encoder_inputs, decoder_inputs], decoder_outputs)"
   ]
  },
  {
   "cell_type": "code",
   "execution_count": 99,
   "metadata": {
    "scrolled": false
   },
   "outputs": [
    {
     "name": "stdout",
     "output_type": "stream",
     "text": [
      "Epoch 1/100\n",
      "82/82 [==============================] - 4s 51ms/step - loss: 0.0020 - accuracy: 0.4510 - val_loss: 0.1355 - val_accuracy: 0.4237\n",
      "Epoch 2/100\n",
      "82/82 [==============================] - 4s 44ms/step - loss: 0.0020 - accuracy: 0.4511 - val_loss: 0.1634 - val_accuracy: 0.4186\n",
      "Epoch 3/100\n",
      "82/82 [==============================] - 4s 45ms/step - loss: 0.0015 - accuracy: 0.4512 - val_loss: 0.1294 - val_accuracy: 0.4242\n",
      "Epoch 4/100\n",
      "82/82 [==============================] - 4s 46ms/step - loss: 0.0015 - accuracy: 0.4511 - val_loss: 0.1317 - val_accuracy: 0.4242\n",
      "Epoch 5/100\n",
      "82/82 [==============================] - 4s 48ms/step - loss: 0.0016 - accuracy: 0.4512 - val_loss: 0.1351 - val_accuracy: 0.4233\n",
      "Epoch 6/100\n",
      "82/82 [==============================] - 4s 48ms/step - loss: 0.0016 - accuracy: 0.4511 - val_loss: 0.1282 - val_accuracy: 0.4256\n",
      "Epoch 7/100\n",
      "82/82 [==============================] - 4s 48ms/step - loss: 0.0014 - accuracy: 0.4511 - val_loss: 0.1231 - val_accuracy: 0.4260\n",
      "Epoch 8/100\n",
      "82/82 [==============================] - 4s 49ms/step - loss: 0.0013 - accuracy: 0.4512 - val_loss: 0.1423 - val_accuracy: 0.4228\n",
      "Epoch 9/100\n",
      "82/82 [==============================] - 4s 50ms/step - loss: 0.0015 - accuracy: 0.4511 - val_loss: 0.1434 - val_accuracy: 0.4220\n",
      "Epoch 10/100\n",
      "82/82 [==============================] - 4s 50ms/step - loss: 0.0011 - accuracy: 0.4512 - val_loss: 0.1296 - val_accuracy: 0.4250\n",
      "Epoch 11/100\n",
      "82/82 [==============================] - 4s 51ms/step - loss: 0.0014 - accuracy: 0.4511 - val_loss: 0.1385 - val_accuracy: 0.4237\n",
      "Epoch 12/100\n",
      "82/82 [==============================] - 4s 51ms/step - loss: 0.0017 - accuracy: 0.4511 - val_loss: 0.1249 - val_accuracy: 0.4262\n",
      "Epoch 13/100\n",
      "82/82 [==============================] - 4s 52ms/step - loss: 0.0012 - accuracy: 0.4512 - val_loss: 0.1359 - val_accuracy: 0.4238\n",
      "Epoch 14/100\n",
      "82/82 [==============================] - 4s 51ms/step - loss: 0.0017 - accuracy: 0.4511 - val_loss: 0.1354 - val_accuracy: 0.4245\n",
      "Epoch 15/100\n",
      "82/82 [==============================] - 4s 51ms/step - loss: 0.0015 - accuracy: 0.4511 - val_loss: 0.1383 - val_accuracy: 0.4231\n",
      "Epoch 16/100\n",
      "82/82 [==============================] - 4s 50ms/step - loss: 0.0013 - accuracy: 0.4511 - val_loss: 0.1301 - val_accuracy: 0.4254\n",
      "Epoch 17/100\n",
      "82/82 [==============================] - 4s 51ms/step - loss: 0.0014 - accuracy: 0.4512 - val_loss: 0.1199 - val_accuracy: 0.4269\n",
      "Epoch 18/100\n",
      "82/82 [==============================] - 4s 50ms/step - loss: 0.0015 - accuracy: 0.4511 - val_loss: 0.1307 - val_accuracy: 0.4255\n",
      "Epoch 19/100\n",
      "82/82 [==============================] - 4s 51ms/step - loss: 0.0012 - accuracy: 0.4512 - val_loss: 0.1273 - val_accuracy: 0.4262\n",
      "Epoch 20/100\n",
      "82/82 [==============================] - 4s 51ms/step - loss: 0.0011 - accuracy: 0.4512 - val_loss: 0.1441 - val_accuracy: 0.4228\n",
      "Epoch 21/100\n",
      "82/82 [==============================] - 4s 51ms/step - loss: 0.0014 - accuracy: 0.4511 - val_loss: 0.1304 - val_accuracy: 0.4264\n",
      "Epoch 22/100\n",
      "82/82 [==============================] - 4s 51ms/step - loss: 0.0013 - accuracy: 0.4511 - val_loss: 0.1367 - val_accuracy: 0.4252\n",
      "Epoch 23/100\n",
      "82/82 [==============================] - 4s 51ms/step - loss: 0.0011 - accuracy: 0.4512 - val_loss: 0.1349 - val_accuracy: 0.4245\n",
      "Epoch 24/100\n",
      "82/82 [==============================] - 4s 51ms/step - loss: 3.9683e-04 - accuracy: 0.4514 - val_loss: 0.1448 - val_accuracy: 0.4227\n",
      "Epoch 25/100\n",
      "82/82 [==============================] - 4s 51ms/step - loss: 8.1116e-04 - accuracy: 0.4513 - val_loss: 0.1379 - val_accuracy: 0.4247\n",
      "Epoch 26/100\n",
      "82/82 [==============================] - 4s 51ms/step - loss: 0.0011 - accuracy: 0.4512 - val_loss: 0.1334 - val_accuracy: 0.4253\n",
      "Epoch 27/100\n",
      "82/82 [==============================] - 4s 51ms/step - loss: 5.8609e-04 - accuracy: 0.4513 - val_loss: 0.1293 - val_accuracy: 0.4262\n",
      "Epoch 28/100\n",
      "82/82 [==============================] - 4s 51ms/step - loss: 0.0010 - accuracy: 0.4512 - val_loss: 0.1301 - val_accuracy: 0.4264\n",
      "Epoch 29/100\n",
      "82/82 [==============================] - 4s 51ms/step - loss: 9.5843e-04 - accuracy: 0.4512 - val_loss: 0.1259 - val_accuracy: 0.4268\n",
      "Epoch 30/100\n",
      "82/82 [==============================] - 4s 50ms/step - loss: 9.7640e-04 - accuracy: 0.4513 - val_loss: 0.1352 - val_accuracy: 0.4256\n",
      "Epoch 31/100\n",
      "82/82 [==============================] - 4s 50ms/step - loss: 9.2721e-04 - accuracy: 0.4513 - val_loss: 0.1312 - val_accuracy: 0.4261\n",
      "Epoch 32/100\n",
      "82/82 [==============================] - 4s 51ms/step - loss: 0.0011 - accuracy: 0.4513 - val_loss: 0.1377 - val_accuracy: 0.4243\n",
      "Epoch 33/100\n",
      "82/82 [==============================] - 4s 51ms/step - loss: 0.0012 - accuracy: 0.4511 - val_loss: 0.1369 - val_accuracy: 0.4247\n",
      "Epoch 34/100\n",
      "82/82 [==============================] - 4s 51ms/step - loss: 9.7691e-04 - accuracy: 0.4513 - val_loss: 0.1362 - val_accuracy: 0.4252\n",
      "Epoch 35/100\n",
      "82/82 [==============================] - 4s 51ms/step - loss: 0.0011 - accuracy: 0.4513 - val_loss: 0.1417 - val_accuracy: 0.4256\n",
      "Epoch 36/100\n",
      "82/82 [==============================] - 4s 51ms/step - loss: 0.0012 - accuracy: 0.4512 - val_loss: 0.1353 - val_accuracy: 0.4259\n",
      "Epoch 37/100\n",
      "82/82 [==============================] - 4s 51ms/step - loss: 0.0013 - accuracy: 0.4512 - val_loss: 0.1321 - val_accuracy: 0.4260\n",
      "Epoch 38/100\n",
      "82/82 [==============================] - 4s 51ms/step - loss: 7.8542e-04 - accuracy: 0.4513 - val_loss: 0.1249 - val_accuracy: 0.4274\n",
      "Epoch 39/100\n",
      "82/82 [==============================] - 4s 51ms/step - loss: 0.0012 - accuracy: 0.4512 - val_loss: 0.1365 - val_accuracy: 0.4253\n",
      "Epoch 40/100\n",
      "82/82 [==============================] - 4s 52ms/step - loss: 0.0014 - accuracy: 0.4511 - val_loss: 0.1339 - val_accuracy: 0.4252\n",
      "Epoch 41/100\n",
      "82/82 [==============================] - 4s 52ms/step - loss: 0.0015 - accuracy: 0.4511 - val_loss: 0.1330 - val_accuracy: 0.4252\n",
      "Epoch 42/100\n",
      "82/82 [==============================] - 4s 52ms/step - loss: 0.0010 - accuracy: 0.4513 - val_loss: 0.1271 - val_accuracy: 0.4274\n",
      "Epoch 43/100\n",
      "82/82 [==============================] - 4s 52ms/step - loss: 6.8576e-04 - accuracy: 0.4514 - val_loss: 0.1280 - val_accuracy: 0.4273\n",
      "Epoch 44/100\n",
      "82/82 [==============================] - 4s 52ms/step - loss: 0.0012 - accuracy: 0.4512 - val_loss: 0.1391 - val_accuracy: 0.4241\n",
      "Epoch 45/100\n",
      "82/82 [==============================] - 4s 51ms/step - loss: 5.5278e-04 - accuracy: 0.4514 - val_loss: 0.1493 - val_accuracy: 0.4220\n",
      "Epoch 46/100\n",
      "82/82 [==============================] - 4s 51ms/step - loss: 0.0011 - accuracy: 0.4512 - val_loss: 0.1305 - val_accuracy: 0.4257\n",
      "Epoch 47/100\n",
      "82/82 [==============================] - 4s 52ms/step - loss: 0.0010 - accuracy: 0.4511 - val_loss: 0.1321 - val_accuracy: 0.4261\n",
      "Epoch 48/100\n",
      "82/82 [==============================] - 4s 51ms/step - loss: 0.0011 - accuracy: 0.4512 - val_loss: 0.1468 - val_accuracy: 0.4240\n",
      "Epoch 49/100\n",
      "82/82 [==============================] - 4s 51ms/step - loss: 0.0013 - accuracy: 0.4513 - val_loss: 0.1297 - val_accuracy: 0.4264\n",
      "Epoch 50/100\n",
      "82/82 [==============================] - 4s 51ms/step - loss: 8.4859e-04 - accuracy: 0.4513 - val_loss: 0.1279 - val_accuracy: 0.4270\n",
      "Epoch 51/100\n",
      "82/82 [==============================] - 4s 51ms/step - loss: 0.0012 - accuracy: 0.4512 - val_loss: 0.1234 - val_accuracy: 0.4276\n",
      "Epoch 52/100\n",
      "82/82 [==============================] - 4s 50ms/step - loss: 0.0012 - accuracy: 0.4511 - val_loss: 0.1331 - val_accuracy: 0.4250\n",
      "Epoch 53/100\n",
      "82/82 [==============================] - 4s 51ms/step - loss: 0.0013 - accuracy: 0.4511 - val_loss: 0.1305 - val_accuracy: 0.4260\n",
      "Epoch 54/100\n",
      "82/82 [==============================] - 4s 51ms/step - loss: 0.0011 - accuracy: 0.4512 - val_loss: 0.1370 - val_accuracy: 0.4251\n",
      "Epoch 55/100\n",
      "82/82 [==============================] - 4s 51ms/step - loss: 6.8117e-04 - accuracy: 0.4513 - val_loss: 0.1310 - val_accuracy: 0.4258\n",
      "Epoch 56/100\n",
      "82/82 [==============================] - 4s 51ms/step - loss: 0.0011 - accuracy: 0.4512 - val_loss: 0.1260 - val_accuracy: 0.4277\n",
      "Epoch 57/100\n",
      "82/82 [==============================] - 4s 52ms/step - loss: 0.0012 - accuracy: 0.4512 - val_loss: 0.1472 - val_accuracy: 0.4228\n",
      "Epoch 58/100\n",
      "82/82 [==============================] - 4s 51ms/step - loss: 8.8298e-04 - accuracy: 0.4513 - val_loss: 0.1296 - val_accuracy: 0.4265\n",
      "Epoch 59/100\n",
      "82/82 [==============================] - 4s 52ms/step - loss: 8.7069e-04 - accuracy: 0.4513 - val_loss: 0.1345 - val_accuracy: 0.4265\n",
      "Epoch 60/100\n",
      "82/82 [==============================] - 4s 52ms/step - loss: 9.7440e-04 - accuracy: 0.4512 - val_loss: 0.1328 - val_accuracy: 0.4267\n",
      "Epoch 61/100\n",
      "82/82 [==============================] - 4s 52ms/step - loss: 5.6413e-04 - accuracy: 0.4513 - val_loss: 0.1301 - val_accuracy: 0.4271\n",
      "Epoch 62/100\n",
      "82/82 [==============================] - 4s 52ms/step - loss: 0.0012 - accuracy: 0.4512 - val_loss: 0.1373 - val_accuracy: 0.4257\n",
      "Epoch 63/100\n",
      "82/82 [==============================] - 4s 52ms/step - loss: 0.0013 - accuracy: 0.4512 - val_loss: 0.1304 - val_accuracy: 0.4274\n",
      "Epoch 64/100\n",
      "82/82 [==============================] - 4s 52ms/step - loss: 7.8090e-04 - accuracy: 0.4513 - val_loss: 0.1287 - val_accuracy: 0.4270\n",
      "Epoch 65/100\n",
      "82/82 [==============================] - 4s 53ms/step - loss: 0.0010 - accuracy: 0.4511 - val_loss: 0.1282 - val_accuracy: 0.4269\n",
      "Epoch 66/100\n",
      "82/82 [==============================] - 4s 53ms/step - loss: 7.5984e-04 - accuracy: 0.4513 - val_loss: 0.1402 - val_accuracy: 0.4247\n",
      "Epoch 67/100\n",
      "82/82 [==============================] - 4s 53ms/step - loss: 9.7079e-04 - accuracy: 0.4513 - val_loss: 0.1324 - val_accuracy: 0.4263\n",
      "Epoch 68/100\n",
      "82/82 [==============================] - 4s 53ms/step - loss: 6.5797e-04 - accuracy: 0.4513 - val_loss: 0.1339 - val_accuracy: 0.4263\n",
      "Epoch 69/100\n",
      "82/82 [==============================] - 4s 53ms/step - loss: 8.8643e-04 - accuracy: 0.4512 - val_loss: 0.1268 - val_accuracy: 0.4278\n",
      "Epoch 70/100\n",
      "82/82 [==============================] - 4s 52ms/step - loss: 9.5940e-04 - accuracy: 0.4513 - val_loss: 0.1269 - val_accuracy: 0.4270\n",
      "Epoch 71/100\n",
      "82/82 [==============================] - 4s 52ms/step - loss: 7.3666e-04 - accuracy: 0.4513 - val_loss: 0.1452 - val_accuracy: 0.4244\n",
      "Epoch 72/100\n",
      "82/82 [==============================] - 4s 52ms/step - loss: 9.1310e-04 - accuracy: 0.4512 - val_loss: 0.1298 - val_accuracy: 0.4266\n",
      "Epoch 73/100\n",
      "82/82 [==============================] - 4s 53ms/step - loss: 0.0011 - accuracy: 0.4512 - val_loss: 0.1302 - val_accuracy: 0.4272\n",
      "Epoch 74/100\n",
      "82/82 [==============================] - 4s 52ms/step - loss: 9.9717e-04 - accuracy: 0.4513 - val_loss: 0.1313 - val_accuracy: 0.4272\n",
      "Epoch 75/100\n",
      "82/82 [==============================] - 4s 51ms/step - loss: 0.0010 - accuracy: 0.4512 - val_loss: 0.1242 - val_accuracy: 0.4281\n",
      "Epoch 76/100\n",
      "82/82 [==============================] - 4s 52ms/step - loss: 8.2938e-04 - accuracy: 0.4513 - val_loss: 0.1324 - val_accuracy: 0.4267\n",
      "Epoch 77/100\n",
      "82/82 [==============================] - 4s 52ms/step - loss: 0.0013 - accuracy: 0.4512 - val_loss: 0.1235 - val_accuracy: 0.4273\n",
      "Epoch 78/100\n",
      "82/82 [==============================] - 4s 51ms/step - loss: 3.9584e-04 - accuracy: 0.4514 - val_loss: 0.1282 - val_accuracy: 0.4265\n",
      "Epoch 79/100\n",
      "82/82 [==============================] - 4s 51ms/step - loss: 9.3671e-04 - accuracy: 0.4513 - val_loss: 0.1281 - val_accuracy: 0.4270\n",
      "Epoch 80/100\n",
      "82/82 [==============================] - 4s 51ms/step - loss: 9.7234e-04 - accuracy: 0.4513 - val_loss: 0.1321 - val_accuracy: 0.4257\n",
      "Epoch 81/100\n",
      "82/82 [==============================] - 4s 51ms/step - loss: 7.0968e-04 - accuracy: 0.4513 - val_loss: 0.1335 - val_accuracy: 0.4261\n",
      "Epoch 82/100\n",
      "82/82 [==============================] - 4s 50ms/step - loss: 8.1433e-04 - accuracy: 0.4513 - val_loss: 0.1304 - val_accuracy: 0.4267\n",
      "Epoch 83/100\n",
      "82/82 [==============================] - 4s 50ms/step - loss: 9.0361e-04 - accuracy: 0.4513 - val_loss: 0.1401 - val_accuracy: 0.4257\n",
      "Epoch 84/100\n",
      "82/82 [==============================] - 4s 51ms/step - loss: 6.1276e-04 - accuracy: 0.4513 - val_loss: 0.1272 - val_accuracy: 0.4283\n",
      "Epoch 85/100\n",
      "82/82 [==============================] - 4s 51ms/step - loss: 0.0011 - accuracy: 0.4512 - val_loss: 0.1384 - val_accuracy: 0.4259\n",
      "Epoch 86/100\n",
      "82/82 [==============================] - 4s 51ms/step - loss: 8.7264e-04 - accuracy: 0.4512 - val_loss: 0.1374 - val_accuracy: 0.4260\n",
      "Epoch 87/100\n",
      "82/82 [==============================] - 4s 51ms/step - loss: 7.3632e-04 - accuracy: 0.4513 - val_loss: 0.1312 - val_accuracy: 0.4271\n",
      "Epoch 88/100\n",
      "82/82 [==============================] - 4s 52ms/step - loss: 9.0636e-04 - accuracy: 0.4513 - val_loss: 0.1343 - val_accuracy: 0.4273\n",
      "Epoch 89/100\n",
      "82/82 [==============================] - 4s 52ms/step - loss: 0.0011 - accuracy: 0.4512 - val_loss: 0.1303 - val_accuracy: 0.4276\n",
      "Epoch 90/100\n",
      "82/82 [==============================] - 4s 51ms/step - loss: 9.0367e-04 - accuracy: 0.4512 - val_loss: 0.1284 - val_accuracy: 0.4266\n",
      "Epoch 91/100\n",
      "82/82 [==============================] - 4s 51ms/step - loss: 6.0107e-04 - accuracy: 0.4514 - val_loss: 0.1271 - val_accuracy: 0.4271\n",
      "Epoch 92/100\n",
      "82/82 [==============================] - 4s 51ms/step - loss: 9.1074e-04 - accuracy: 0.4513 - val_loss: 0.1247 - val_accuracy: 0.4274\n",
      "Epoch 93/100\n",
      "82/82 [==============================] - 4s 51ms/step - loss: 6.8357e-04 - accuracy: 0.4513 - val_loss: 0.1260 - val_accuracy: 0.4277\n",
      "Epoch 94/100\n",
      "82/82 [==============================] - 4s 52ms/step - loss: 8.3438e-04 - accuracy: 0.4513 - val_loss: 0.1363 - val_accuracy: 0.4258\n",
      "Epoch 95/100\n",
      "82/82 [==============================] - 4s 51ms/step - loss: 7.2165e-04 - accuracy: 0.4513 - val_loss: 0.1265 - val_accuracy: 0.4282\n",
      "Epoch 96/100\n",
      "82/82 [==============================] - 4s 51ms/step - loss: 7.2911e-04 - accuracy: 0.4513 - val_loss: 0.1328 - val_accuracy: 0.4277\n",
      "Epoch 97/100\n",
      "82/82 [==============================] - 4s 51ms/step - loss: 6.7067e-04 - accuracy: 0.4512 - val_loss: 0.1348 - val_accuracy: 0.4275\n",
      "Epoch 98/100\n",
      "82/82 [==============================] - 4s 51ms/step - loss: 5.9548e-04 - accuracy: 0.4513 - val_loss: 0.1263 - val_accuracy: 0.4284\n",
      "Epoch 99/100\n",
      "82/82 [==============================] - 4s 51ms/step - loss: 4.7571e-04 - accuracy: 0.4514 - val_loss: 0.1310 - val_accuracy: 0.4272\n",
      "Epoch 100/100\n",
      "82/82 [==============================] - 4s 52ms/step - loss: 5.5899e-04 - accuracy: 0.4513 - val_loss: 0.1362 - val_accuracy: 0.4265\n"
     ]
    }
   ],
   "source": [
    "#Train the function with rmsprop regulation, and verify the accuracy with cross-entropy.\n",
    "#Data is seperated into two groups, 20% as validation(test) set, the rest as training set.\n",
    "model.compile(optimizer='rmsprop', loss='categorical_crossentropy',metrics=['accuracy'])\n",
    "hist = model.fit([encoder_input_data, decoder_input_data], decoder_target_data,\n",
    "          batch_size=batch_size,\n",
    "          epochs=epochs,\n",
    "          validation_split=0.2)"
   ]
  },
  {
   "cell_type": "code",
   "execution_count": 100,
   "metadata": {
    "scrolled": true
   },
   "outputs": [
    {
     "name": "stdout",
     "output_type": "stream",
     "text": [
      "INFO:tensorflow:Assets written to: rnn_trained\\assets\n"
     ]
    }
   ],
   "source": [
    "#Save the model details.\n",
    "model.save(\"rnn_trained\")"
   ]
  },
  {
   "cell_type": "markdown",
   "metadata": {},
   "source": [
    "## Model inference"
   ]
  },
  {
   "cell_type": "code",
   "execution_count": 101,
   "metadata": {},
   "outputs": [],
   "source": [
    "#load the pre-trained model parameters\n",
    "model = keras.models.load_model(\"rnn_trained\")"
   ]
  },
  {
   "cell_type": "markdown",
   "metadata": {},
   "source": [
    "#### 1). Encoder inference"
   ]
  },
  {
   "cell_type": "code",
   "execution_count": 102,
   "metadata": {},
   "outputs": [],
   "source": [
    "encoder_inputs = model.input[0]  \n",
    "encoder_outputs, state_h_enc, state_c_enc = model.layers[2].output  \n",
    "encoder_states = [state_h_enc, state_c_enc]\n",
    "encoder_model = keras.Model(encoder_inputs, encoder_states)"
   ]
  },
  {
   "cell_type": "markdown",
   "metadata": {},
   "source": [
    "#### 2). Decoder inference"
   ]
  },
  {
   "cell_type": "code",
   "execution_count": 103,
   "metadata": {},
   "outputs": [],
   "source": [
    "#Decoder model inference\n",
    "decoder_inputs = model.input[1] \n",
    "decoder_state_input_h = keras.Input(shape=(latent_dim,))\n",
    "decoder_state_input_c = keras.Input(shape=(latent_dim,))\n",
    "decoder_states_inputs = [decoder_state_input_h, decoder_state_input_c]\n",
    "decoder_lstm = model.layers[3]\n",
    "decoder_outputs, state_h_dec, state_c_dec = decoder_lstm(\n",
    "    decoder_inputs, initial_state=decoder_states_inputs)\n",
    "decoder_states = [state_h_dec, state_c_dec]\n",
    "decoder_dense = model.layers[4]\n",
    "decoder_outputs = decoder_dense(decoder_outputs)\n",
    "decoder_model = keras.Model(\n",
    "    [decoder_inputs] + decoder_states_inputs, [decoder_outputs] + decoder_states)"
   ]
  },
  {
   "cell_type": "markdown",
   "metadata": {},
   "source": [
    "## Model decoding and text generating"
   ]
  },
  {
   "cell_type": "code",
   "execution_count": 104,
   "metadata": {},
   "outputs": [],
   "source": [
    "#Define function to translate one-hot vector to to word\n",
    "reverse_input_char_index = dict((i, char) for char, i in input_token_index.items())\n",
    "reverse_target_char_index = dict((i, char) for char, i in target_token_index.items())"
   ]
  },
  {
   "cell_type": "code",
   "execution_count": 105,
   "metadata": {},
   "outputs": [],
   "source": [
    "def decode_sequence(input_seq):\n",
    "    # Encode the input as state vectors.\n",
    "    states_value = encoder_model.predict(input_seq)\n",
    "\n",
    "    target_seq = np.zeros((1, 1, num_decoder_tokens))\n",
    "    target_seq[0, 0, target_token_index[\"\\t\"]] = 1.0\n",
    "\n",
    "    stop_condition = False\n",
    "    decoded_sentence = \"\"\n",
    "    while not stop_condition:\n",
    "        output_tokens, h, c = decoder_model.predict([target_seq] + states_value)\n",
    "\n",
    "        sampled_token_index = np.argmax(output_tokens[0, -1, :])\n",
    "        sampled_char = reverse_target_char_index[sampled_token_index]\n",
    "        decoded_sentence += sampled_char\n",
    "\n",
    "        if sampled_char == \"\\n\" or len(decoded_sentence) > max_decoder_seq_length:\n",
    "            stop_condition = True\n",
    "\n",
    "        target_seq = np.zeros((1, 1, num_decoder_tokens))\n",
    "        target_seq[0, 0, sampled_token_index] = 1.0\n",
    "\n",
    "        states_value = [h, c]\n",
    "    return decoded_sentence"
   ]
  },
  {
   "cell_type": "code",
   "execution_count": 121,
   "metadata": {
    "scrolled": true
   },
   "outputs": [
    {
     "name": "stdout",
     "output_type": "stream",
     "text": [
      "-\n",
      "Input sentence: apprehensive\n",
      "Decoded sentence: apprehensiveway\n",
      "\n",
      "-\n",
      "Input sentence: desperately\n",
      "Decoded sentence: esperatelyday\n",
      "\n",
      "-\n",
      "Input sentence: grew\n",
      "Decoded sentence: ewgray\n",
      "\n",
      "-\n",
      "Input sentence: niggardly\n",
      "Decoded sentence: iggardlynay\n",
      "\n",
      "-\n",
      "Input sentence: brought\n",
      "Decoded sentence: oughtbray\n",
      "\n",
      "-\n",
      "Input sentence: imagery\n",
      "Decoded sentence: imageryway\n",
      "\n",
      "-\n",
      "Input sentence: quicker\n",
      "Decoded sentence: ickerquay\n",
      "\n",
      "-\n",
      "Input sentence: for\n",
      "Decoded sentence: orfay\n",
      "\n",
      "-\n",
      "Input sentence: emergency\n",
      "Decoded sentence: emergencyway\n",
      "\n",
      "-\n",
      "Input sentence: felt\n",
      "Decoded sentence: eltfay\n",
      "\n"
     ]
    }
   ],
   "source": [
    "for index in range(10):\n",
    "    # Take one sequence (part of the training set)\n",
    "    # for trying out decoding.\n",
    "    input_seq = encoder_input_data[index : index + 1]\n",
    "    decoded_sentence = decode_sequence(input_seq)\n",
    "    print(\"-\")\n",
    "    print(\"Input sentence:\", input_texts[index])\n",
    "    print(\"Decoded sentence:\", decoded_sentence)"
   ]
  },
  {
   "cell_type": "code",
   "execution_count": 120,
   "metadata": {},
   "outputs": [
    {
     "name": "stdout",
     "output_type": "stream",
     "text": [
      "The final acccuracy: 0.4513489007949829\n"
     ]
    }
   ],
   "source": [
    "print(\"The final acccuracy:\",hist.history['accuracy'][-1])"
   ]
  },
  {
   "cell_type": "code",
   "execution_count": null,
   "metadata": {},
   "outputs": [],
   "source": []
  }
 ],
 "metadata": {
  "coursera": {
   "course_slug": "nlp-sequence-models",
   "graded_item_id": "1dYg0",
   "launcher_item_id": "MLhxP"
  },
  "interpreter": {
   "hash": "31f2aee4e71d21fbe5cf8b01ff0e069b9275f58929596ceb00d14d90e3e16cd6"
  },
  "kernelspec": {
   "display_name": "Python 3",
   "language": "python",
   "name": "python3"
  },
  "language_info": {
   "codemirror_mode": {
    "name": "ipython",
    "version": 3
   },
   "file_extension": ".py",
   "mimetype": "text/x-python",
   "name": "python",
   "nbconvert_exporter": "python",
   "pygments_lexer": "ipython3",
   "version": "3.9.2"
  }
 },
 "nbformat": 4,
 "nbformat_minor": 2
}
